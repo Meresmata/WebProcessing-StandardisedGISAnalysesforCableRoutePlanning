{
 "cells": [
  {
   "cell_type": "markdown",
   "source": [
    "# measure the average minimum distance between two lines"
   ],
   "metadata": {
    "collapsed": false
   }
  },
  {
   "cell_type": "code",
   "execution_count": 10,
   "outputs": [],
   "source": [
    "from geopandas import read_file\n",
    "from shapely.geometry import Point\n",
    "import numpy as np\n",
    "from math import sqrt\n",
    "from rasterstats import zonal_stats\n",
    "from pathlib import Path"
   ],
   "metadata": {
    "collapsed": false
   }
  },
  {
   "cell_type": "markdown",
   "source": [
    "# 5 m resolution\n",
    "## distances"
   ],
   "metadata": {
    "collapsed": false
   }
  },
  {
   "cell_type": "markdown",
   "source": [],
   "metadata": {
    "collapsed": false
   }
  },
  {
   "cell_type": "code",
   "execution_count": 3,
   "outputs": [
    {
     "data": {
      "text/plain": "0.0"
     },
     "execution_count": 3,
     "metadata": {},
     "output_type": "execute_result"
    }
   ],
   "source": [
    "least_cost_path_5_false = read_file(r\"E:\\Basti\\Studium\\HSHarz\\WissenschaftlichesArbeiten\\WebProcessing-StandardisedGISAnalysesforCableRoutePlanning\\results\\least_cost_paths\\least_cost_path_test_points_res_5_al_false.gpkg\")\n",
    "least_cost_path_5_true = read_file(r\"E:\\Basti\\Studium\\HSHarz\\WissenschaftlichesArbeiten\\WebProcessing-StandardisedGISAnalysesforCableRoutePlanning\\results\\least_cost_paths\\least_cost_path_test_points_res_5_al_true.gpkg\")\n",
    "\n",
    "least_cost_path_5_false.geometry.values[0].distance(least_cost_path_5_true.geometry.values[0])"
   ],
   "metadata": {
    "collapsed": false
   }
  },
  {
   "cell_type": "code",
   "execution_count": 4,
   "outputs": [
    {
     "data": {
      "text/plain": "(59873.38154014804, 78002.0066579491)"
     },
     "execution_count": 4,
     "metadata": {},
     "output_type": "execute_result"
    }
   ],
   "source": [
    "least_cost_path_5_false.geometry.values[0].length, least_cost_path_5_true.geometry.values[0].length"
   ],
   "metadata": {
    "collapsed": false
   }
  },
  {
   "cell_type": "code",
   "execution_count": 5,
   "outputs": [],
   "source": [
    "distances_5  =  np.array([Point(p).distance(least_cost_path_5_true.geometry.values[0]) for p in least_cost_path_5_false.geometry.values[0].coords])"
   ],
   "metadata": {
    "collapsed": false
   }
  },
  {
   "cell_type": "code",
   "execution_count": 6,
   "outputs": [
    {
     "data": {
      "text/plain": "33.01776695296637"
     },
     "execution_count": 6,
     "metadata": {},
     "output_type": "execute_result"
    }
   ],
   "source": [
    "mean_min_distances_5 =  np.mean(distances_5)\n",
    "mean_min_distances_5"
   ],
   "metadata": {
    "collapsed": false
   }
  },
  {
   "cell_type": "markdown",
   "source": [
    "## zonal stats"
   ],
   "metadata": {
    "collapsed": false
   }
  },
  {
   "cell_type": "code",
   "execution_count": 49,
   "outputs": [
    {
     "data": {
      "text/plain": "{'Preferential': 4.289555672581029,\n 'No Restriction': 59.01982012727011,\n 'Restricted': 8.884341893517933,\n 'Strongly Restricted': 0.7294642358056763,\n 'Prohibited': 27.076818070825254}"
     },
     "execution_count": 49,
     "metadata": {},
     "output_type": "execute_result"
    }
   ],
   "source": [
    "buffer_dist = sqrt(2) * 100\n",
    "cmap = {0.1: 'Preferential', 0.5: 'No Restriction', 5.0: 'Restricted', 10.0: 'Strongly Restricted', 500: 'Prohibited'}\n",
    "stats = zonal_stats(least_cost_path_5_false.buffer(buffer_dist),\n",
    "            Path(r'./../results/weights/result_res_5_all_touched_False.tif'),\n",
    "            categorical=True, category_map=cmap)[0]\n",
    "\n",
    "stat_sum = np.sum(list(stats.values()))\n",
    "rel_stats = {k: (v / stat_sum * 100.0) for k, v in stats.items()}\n",
    "rel_stats"
   ],
   "metadata": {
    "collapsed": false
   }
  },
  {
   "cell_type": "code",
   "execution_count": 50,
   "outputs": [
    {
     "data": {
      "text/plain": "{'Preferential': 17.382677194254175,\n 'No Restriction': 67.25089118995076,\n 'Restricted': 1.1679520294356487,\n 'Strongly Restricted': 0.9684952309294526,\n 'Prohibited': 13.22998435542995}"
     },
     "execution_count": 50,
     "metadata": {},
     "output_type": "execute_result"
    }
   ],
   "source": [
    "stats = zonal_stats(least_cost_path_5_true.buffer(buffer_dist),\n",
    "            Path(r'./../results/weights/result_res_5_all_touched_True.tif'),\n",
    "            categorical=True, category_map=cmap)[0]\n",
    "\n",
    "stat_sum = np.sum(list(stats.values()))\n",
    "rel_stats = {k: (v / stat_sum * 100.0) for k, v in stats.items()}\n",
    "rel_stats"
   ],
   "metadata": {
    "collapsed": false
   }
  },
  {
   "cell_type": "markdown",
   "source": [
    "# 10 m resolution\n",
    "## distances"
   ],
   "metadata": {
    "collapsed": false
   }
  },
  {
   "cell_type": "code",
   "execution_count": 52,
   "outputs": [
    {
     "data": {
      "text/plain": "(75430.10086958889, 77936.56874848259)"
     },
     "execution_count": 52,
     "metadata": {},
     "output_type": "execute_result"
    }
   ],
   "source": [
    "least_cost_path_10_false = read_file(r\"E:\\Basti\\Studium\\HSHarz\\WissenschaftlichesArbeiten\\WebProcessing-StandardisedGISAnalysesforCableRoutePlanning\\results\\least_cost_paths\\least_cost_path_test_points_res_10_al_false.gpkg\")\n",
    "least_cost_path_10_true = read_file(r\"E:\\Basti\\Studium\\HSHarz\\WissenschaftlichesArbeiten\\WebProcessing-StandardisedGISAnalysesforCableRoutePlanning\\results\\least_cost_paths\\least_cost_path_test_points_res_10_al_true.gpkg\")\n",
    "least_cost_path_10_false.geometry.values[0].length, least_cost_path_10_true.geometry.values[0].length"
   ],
   "metadata": {
    "collapsed": false
   }
  },
  {
   "cell_type": "code",
   "execution_count": 53,
   "outputs": [
    {
     "data": {
      "text/plain": "277.921414632231"
     },
     "execution_count": 53,
     "metadata": {},
     "output_type": "execute_result"
    }
   ],
   "source": [
    "distances_10  =  np.array([Point(p).distance(least_cost_path_10_true.geometry.values[0]) for p in least_cost_path_10_false.geometry.values[0].coords])\n",
    "mean_min_distances_10 =  np.mean(distances_10)\n",
    "mean_min_distances_10"
   ],
   "metadata": {
    "collapsed": false
   }
  },
  {
   "cell_type": "markdown",
   "source": [
    "## Zonal Stats"
   ],
   "metadata": {
    "collapsed": false
   }
  },
  {
   "cell_type": "code",
   "execution_count": 54,
   "outputs": [
    {
     "data": {
      "text/plain": "{'Preferential': 17.90137388213389,\n 'No Restriction': 68.730310980713,\n 'Restricted': 0.9215636490159017,\n 'Strongly Restricted': 0.8002557809311553,\n 'Prohibited': 11.646495707206062}"
     },
     "execution_count": 54,
     "metadata": {},
     "output_type": "execute_result"
    }
   ],
   "source": [
    "stats = zonal_stats(least_cost_path_10_false.buffer(buffer_dist),\n",
    "            Path(r'./../results/weights/result_res_10_all_touched_False.tif'),\n",
    "            categorical=True, category_map=cmap)[0]\n",
    "\n",
    "stat_sum = np.sum(list(stats.values()))\n",
    "rel_stats = {k: (v / stat_sum * 100.0) for k, v in stats.items()}\n",
    "rel_stats"
   ],
   "metadata": {
    "collapsed": false
   }
  },
  {
   "cell_type": "code",
   "execution_count": 55,
   "outputs": [
    {
     "data": {
      "text/plain": "{'Preferential': 17.367799692774735,\n 'No Restriction': 66.42082567929147,\n 'Restricted': 1.4723109812519657,\n 'Strongly Restricted': 1.381602038444182,\n 'Prohibited': 13.357461608237648}"
     },
     "execution_count": 55,
     "metadata": {},
     "output_type": "execute_result"
    }
   ],
   "source": [
    "stats = zonal_stats(least_cost_path_10_true.buffer(buffer_dist),\n",
    "            Path(r'./../results/weights/result_res_10_all_touched_True.tif'),\n",
    "            categorical=True, category_map=cmap)[0]\n",
    "\n",
    "stat_sum = np.sum(list(stats.values()))\n",
    "rel_stats = {k: (v / stat_sum * 100.0) for k, v in stats.items()}\n",
    "rel_stats"
   ],
   "metadata": {
    "collapsed": false
   }
  },
  {
   "cell_type": "markdown",
   "source": [
    "# 50 m resolution\n",
    "## Distances"
   ],
   "metadata": {
    "collapsed": false
   }
  },
  {
   "cell_type": "code",
   "execution_count": 56,
   "outputs": [
    {
     "data": {
      "text/plain": "(76135.0213422174, 70619.94558270913)"
     },
     "execution_count": 56,
     "metadata": {},
     "output_type": "execute_result"
    }
   ],
   "source": [
    "least_cost_path_50_false = read_file(r\"E:\\Basti\\Studium\\HSHarz\\WissenschaftlichesArbeiten\\WebProcessing-StandardisedGISAnalysesforCableRoutePlanning\\results\\least_cost_paths\\least_cost_path_test_points_res_50_al_false.gpkg\")\n",
    "least_cost_path_50_true = read_file(r\"E:\\Basti\\Studium\\HSHarz\\WissenschaftlichesArbeiten\\WebProcessing-StandardisedGISAnalysesforCableRoutePlanning\\results\\least_cost_paths\\least_cost_path_test_points_res_50_al_true.gpkg\")\n",
    "least_cost_path_50_false.geometry.values[0].length, least_cost_path_50_true.geometry.values[0].length"
   ],
   "metadata": {
    "collapsed": false
   }
  },
  {
   "cell_type": "code",
   "execution_count": 57,
   "outputs": [
    {
     "data": {
      "text/plain": "1140.0069288754526"
     },
     "execution_count": 57,
     "metadata": {},
     "output_type": "execute_result"
    }
   ],
   "source": [
    "distances_50  =  np.array([Point(p).distance(least_cost_path_50_true.geometry.values[0]) for p in least_cost_path_50_false.geometry.values[0].coords])\n",
    "mean_min_distances_50 =  np.mean(distances_50)\n",
    "mean_min_distances_50"
   ],
   "metadata": {
    "collapsed": false
   }
  },
  {
   "cell_type": "markdown",
   "source": [
    "## Zonal stat"
   ],
   "metadata": {
    "collapsed": false
   }
  },
  {
   "cell_type": "code",
   "execution_count": 59,
   "outputs": [
    {
     "data": {
      "text/plain": "{'Preferential': 18.728048168590064,\n 'No Restriction': 67.87506271951831,\n 'Restricted': 0.865529352734571,\n 'Strongly Restricted': 0.6773707977922729,\n 'Prohibited': 11.853988961364777}"
     },
     "execution_count": 59,
     "metadata": {},
     "output_type": "execute_result"
    }
   ],
   "source": [
    "stats = zonal_stats(least_cost_path_50_false.buffer(buffer_dist),\n",
    "            Path(r'./../results/weights/result_res_50_all_touched_False.tif'),\n",
    "            categorical=True, category_map=cmap)[0]\n",
    "\n",
    "stat_sum = np.sum(list(stats.values()))\n",
    "rel_stats = {k: (v / stat_sum * 100.0) for k, v in stats.items()}\n",
    "rel_stats"
   ],
   "metadata": {
    "collapsed": false
   }
  },
  {
   "cell_type": "code",
   "execution_count": 61,
   "outputs": [
    {
     "data": {
      "text/plain": "{'Preferential': 8.582995951417004,\n 'No Restriction': 74.9527665317139,\n 'Restricted': 3.940620782726046,\n 'Strongly Restricted': 4.07557354925776,\n 'Prohibited': 8.44804318488529}"
     },
     "execution_count": 61,
     "metadata": {},
     "output_type": "execute_result"
    }
   ],
   "source": [
    "stats = zonal_stats(least_cost_path_50_true.buffer(buffer_dist),\n",
    "            Path(r'./../results/weights/result_res_50_all_touched_True.tif'),\n",
    "            categorical=True, category_map=cmap)[0]\n",
    "\n",
    "stat_sum = np.sum(list(stats.values()))\n",
    "rel_stats = {k: (v / stat_sum * 100.0) for k, v in stats.items()}\n",
    "rel_stats"
   ],
   "metadata": {
    "collapsed": false
   }
  },
  {
   "cell_type": "markdown",
   "source": [
    "# 100 m resolution\n",
    "## Distances"
   ],
   "metadata": {
    "collapsed": false
   }
  },
  {
   "cell_type": "code",
   "execution_count": 62,
   "outputs": [
    {
     "data": {
      "text/plain": "(76283.80711525407, 74120.73210305478)"
     },
     "execution_count": 62,
     "metadata": {},
     "output_type": "execute_result"
    }
   ],
   "source": [
    "least_cost_path_100_false = read_file(r\"E:\\Basti\\Studium\\HSHarz\\WissenschaftlichesArbeiten\\WebProcessing-StandardisedGISAnalysesforCableRoutePlanning\\results\\least_cost_paths\\least_cost_path_test_points_res_100_al_false.gpkg\")\n",
    "least_cost_path_100_true = read_file(r\"E:\\Basti\\Studium\\HSHarz\\WissenschaftlichesArbeiten\\WebProcessing-StandardisedGISAnalysesforCableRoutePlanning\\results\\least_cost_paths\\least_cost_path_test_points_res_100_al_true.gpkg\")\n",
    "least_cost_path_100_false.geometry.values[0].length, least_cost_path_100_true.geometry.values[0].length"
   ],
   "metadata": {
    "collapsed": false
   }
  },
  {
   "cell_type": "code",
   "execution_count": 63,
   "outputs": [
    {
     "data": {
      "text/plain": "1946.410723103447"
     },
     "execution_count": 63,
     "metadata": {},
     "output_type": "execute_result"
    }
   ],
   "source": [
    "distances_100  =  np.array([Point(p).distance(least_cost_path_100_true.geometry.values[0]) for p in least_cost_path_100_false.geometry.values[0].coords])\n",
    "mean_min_distances_100 =  np.mean(distances_100)\n",
    "mean_min_distances_100"
   ],
   "metadata": {
    "collapsed": false
   }
  },
  {
   "cell_type": "markdown",
   "source": [
    "## Zonal Stat"
   ],
   "metadata": {
    "collapsed": false
   }
  },
  {
   "cell_type": "code",
   "execution_count": 64,
   "outputs": [
    {
     "data": {
      "text/plain": "{'Preferential': 18.448353631032926,\n 'No Restriction': 69.82408660351827,\n 'Restricted': 1.3080739738385205,\n 'Strongly Restricted': 0.9021199819576003,\n 'Prohibited': 9.517365809652684}"
     },
     "execution_count": 64,
     "metadata": {},
     "output_type": "execute_result"
    }
   ],
   "source": [
    "stats = zonal_stats(least_cost_path_100_false.buffer(buffer_dist),\n",
    "            Path(r'./../results/weights/result_res_100_all_touched_False.tif'),\n",
    "            categorical=True, category_map=cmap)[0]\n",
    "\n",
    "stat_sum = np.sum(list(stats.values()))\n",
    "rel_stats = {k: (v / stat_sum * 100.0) for k, v in stats.items()}\n",
    "rel_stats"
   ],
   "metadata": {
    "collapsed": false
   }
  },
  {
   "cell_type": "code",
   "execution_count": 65,
   "outputs": [
    {
     "data": {
      "text/plain": "{'Preferential': 6.163113994439295,\n 'No Restriction': 71.36237256719184,\n 'Restricted': 5.746061167747914,\n 'Strongly Restricted': 9.684893419833179,\n 'Prohibited': 7.0435588507877664}"
     },
     "execution_count": 65,
     "metadata": {},
     "output_type": "execute_result"
    }
   ],
   "source": [
    "stats = zonal_stats(least_cost_path_100_true.buffer(buffer_dist),\n",
    "            Path(r'./../results/weights/result_res_100_all_touched_True.tif'),\n",
    "            categorical=True, category_map=cmap)[0]\n",
    "\n",
    "stat_sum = np.sum(list(stats.values()))\n",
    "rel_stats = {k: (v / stat_sum * 100.0) for k, v in stats.items()}\n",
    "rel_stats"
   ],
   "metadata": {
    "collapsed": false
   }
  },
  {
   "cell_type": "markdown",
   "source": [
    "# Distances all touched False"
   ],
   "metadata": {
    "collapsed": false
   }
  },
  {
   "cell_type": "code",
   "execution_count": 38,
   "outputs": [
    {
     "data": {
      "text/plain": "257.9733268785573"
     },
     "execution_count": 38,
     "metadata": {},
     "output_type": "execute_result"
    }
   ],
   "source": [
    "distances_false  =  np.array([Point(p).distance(least_cost_path_100_false.geometry.values[0]) for p in least_cost_path_5_false.geometry.values[0].coords])\n",
    "mean_min_distances_false =  np.mean(distances_false)\n",
    "mean_min_distances_false"
   ],
   "metadata": {
    "collapsed": false
   }
  },
  {
   "cell_type": "markdown",
   "source": [
    "# Distances all touched True\n"
   ],
   "metadata": {
    "collapsed": false
   }
  },
  {
   "cell_type": "code",
   "execution_count": 39,
   "outputs": [
    {
     "data": {
      "text/plain": "2109.436322189748"
     },
     "execution_count": 39,
     "metadata": {},
     "output_type": "execute_result"
    }
   ],
   "source": [
    "distances_true  =  np.array([Point(p).distance(least_cost_path_100_true.geometry.values[0]) for p in least_cost_path_5_true.geometry.values[0].coords])\n",
    "mean_min_distances_true =  np.mean(distances_true)\n",
    "mean_min_distances_true"
   ],
   "metadata": {
    "collapsed": false
   }
  },
  {
   "cell_type": "code",
   "execution_count": null,
   "outputs": [],
   "source": [],
   "metadata": {
    "collapsed": false
   }
  }
 ],
 "metadata": {
  "kernelspec": {
   "display_name": "Python 3",
   "language": "python",
   "name": "python3"
  },
  "language_info": {
   "codemirror_mode": {
    "name": "ipython",
    "version": 2
   },
   "file_extension": ".py",
   "mimetype": "text/x-python",
   "name": "python",
   "nbconvert_exporter": "python",
   "pygments_lexer": "ipython2",
   "version": "2.7.6"
  }
 },
 "nbformat": 4,
 "nbformat_minor": 0
}
