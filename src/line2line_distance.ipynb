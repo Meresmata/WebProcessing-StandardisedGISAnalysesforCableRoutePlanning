{
 "cells": [
  {
   "cell_type": "markdown",
   "source": [
    "# measure the average minimum distance between two lines"
   ],
   "metadata": {
    "collapsed": false
   }
  },
  {
   "cell_type": "code",
   "execution_count": 20,
   "outputs": [],
   "source": [
    "from geopandas import read_file\n",
    "from shapely.geometry import Point\n",
    "import numpy as np"
   ],
   "metadata": {
    "collapsed": false
   }
  },
  {
   "cell_type": "markdown",
   "source": [
    "# 5 m resolution"
   ],
   "metadata": {
    "collapsed": false
   }
  },
  {
   "cell_type": "code",
   "execution_count": 4,
   "outputs": [
    {
     "data": {
      "text/plain": "0.0"
     },
     "execution_count": 4,
     "metadata": {},
     "output_type": "execute_result"
    }
   ],
   "source": [
    "least_cost_path_5_false = read_file(r\"E:\\Basti\\Studium\\HSHarz\\WissenschaftlichesArbeiten\\WebProcessing-StandardisedGISAnalysesforCableRoutePlanning\\results\\least_cost_paths\\least_cost_path_test_points_res_5_al_false.gpkg\")\n",
    "least_cost_path_5_true = read_file(r\"E:\\Basti\\Studium\\HSHarz\\WissenschaftlichesArbeiten\\WebProcessing-StandardisedGISAnalysesforCableRoutePlanning\\results\\least_cost_paths\\least_cost_path_test_points_res_5_al_true.gpkg\")\n",
    "\n",
    "least_cost_path_5_false.geometry.values[0].distance(least_cost_path_5_true.geometry.values[0])"
   ],
   "metadata": {
    "collapsed": false
   }
  },
  {
   "cell_type": "code",
   "execution_count": 7,
   "outputs": [
    {
     "data": {
      "text/plain": "(76136.27072666152, 78002.0066579491)"
     },
     "execution_count": 7,
     "metadata": {},
     "output_type": "execute_result"
    }
   ],
   "source": [
    "least_cost_path_5_false.geometry.values[0].length, least_cost_path_5_true.geometry.values[0].length"
   ],
   "metadata": {
    "collapsed": false
   }
  },
  {
   "cell_type": "code",
   "execution_count": 33,
   "outputs": [],
   "source": [
    "distances_5  =  np.array([Point(p).distance(least_cost_path_5_true.geometry.values[0]) for p in least_cost_path_5_false.geometry.values[0].coords])"
   ],
   "metadata": {
    "collapsed": false
   }
  },
  {
   "cell_type": "code",
   "execution_count": 34,
   "outputs": [
    {
     "data": {
      "text/plain": "126.04115368394045"
     },
     "execution_count": 34,
     "metadata": {},
     "output_type": "execute_result"
    }
   ],
   "source": [
    "mean_min_distances_5 =  np.mean(distances_5)\n",
    "mean_min_distances_5"
   ],
   "metadata": {
    "collapsed": false
   }
  },
  {
   "cell_type": "markdown",
   "source": [
    "# 10 m resolution"
   ],
   "metadata": {
    "collapsed": false
   }
  },
  {
   "cell_type": "code",
   "execution_count": 25,
   "outputs": [
    {
     "data": {
      "text/plain": "(75430.10086958889, 77936.56874848259)"
     },
     "execution_count": 25,
     "metadata": {},
     "output_type": "execute_result"
    }
   ],
   "source": [
    "least_cost_path_10_false = read_file(r\"E:\\Basti\\Studium\\HSHarz\\WissenschaftlichesArbeiten\\WebProcessing-StandardisedGISAnalysesforCableRoutePlanning\\results\\least_cost_paths\\least_cost_path_test_points_res_10_al_false.gpkg\")\n",
    "least_cost_path_10_true = read_file(r\"E:\\Basti\\Studium\\HSHarz\\WissenschaftlichesArbeiten\\WebProcessing-StandardisedGISAnalysesforCableRoutePlanning\\results\\least_cost_paths\\least_cost_path_test_points_res_10_al_true.gpkg\")\n",
    "least_cost_path_10_false.geometry.values[0].length, least_cost_path_10_true.geometry.values[0].length"
   ],
   "metadata": {
    "collapsed": false
   }
  },
  {
   "cell_type": "code",
   "execution_count": 35,
   "outputs": [
    {
     "data": {
      "text/plain": "277.921414632231"
     },
     "execution_count": 35,
     "metadata": {},
     "output_type": "execute_result"
    }
   ],
   "source": [
    "distances_10  =  np.array([Point(p).distance(least_cost_path_10_true.geometry.values[0]) for p in least_cost_path_10_false.geometry.values[0].coords])\n",
    "mean_min_distances_10 =  np.mean(distances_10)\n",
    "mean_min_distances_10"
   ],
   "metadata": {
    "collapsed": false
   }
  },
  {
   "cell_type": "markdown",
   "source": [
    "# 50 m resolution"
   ],
   "metadata": {
    "collapsed": false
   }
  },
  {
   "cell_type": "code",
   "execution_count": 28,
   "outputs": [
    {
     "data": {
      "text/plain": "(76135.0213422174, 70619.94558270913)"
     },
     "execution_count": 28,
     "metadata": {},
     "output_type": "execute_result"
    }
   ],
   "source": [
    "least_cost_path_50_false = read_file(r\"E:\\Basti\\Studium\\HSHarz\\WissenschaftlichesArbeiten\\WebProcessing-StandardisedGISAnalysesforCableRoutePlanning\\results\\least_cost_paths\\least_cost_path_test_points_res_50_al_false.gpkg\")\n",
    "least_cost_path_50_true = read_file(r\"E:\\Basti\\Studium\\HSHarz\\WissenschaftlichesArbeiten\\WebProcessing-StandardisedGISAnalysesforCableRoutePlanning\\results\\least_cost_paths\\least_cost_path_test_points_res_50_al_true.gpkg\")\n",
    "least_cost_path_50_false.geometry.values[0].length, least_cost_path_50_true.geometry.values[0].length"
   ],
   "metadata": {
    "collapsed": false
   }
  },
  {
   "cell_type": "code",
   "execution_count": 36,
   "outputs": [
    {
     "data": {
      "text/plain": "1140.0069288754526"
     },
     "execution_count": 36,
     "metadata": {},
     "output_type": "execute_result"
    }
   ],
   "source": [
    "distances_50  =  np.array([Point(p).distance(least_cost_path_50_true.geometry.values[0]) for p in least_cost_path_50_false.geometry.values[0].coords])\n",
    "mean_min_distances_50 =  np.mean(distances_50)\n",
    "mean_min_distances_50"
   ],
   "metadata": {
    "collapsed": false
   }
  },
  {
   "cell_type": "markdown",
   "source": [
    "# 100 m resolution"
   ],
   "metadata": {
    "collapsed": false
   }
  },
  {
   "cell_type": "code",
   "execution_count": 30,
   "outputs": [
    {
     "data": {
      "text/plain": "(76283.80711525407, 74120.73210305478)"
     },
     "execution_count": 30,
     "metadata": {},
     "output_type": "execute_result"
    }
   ],
   "source": [
    "least_cost_path_100_false = read_file(r\"E:\\Basti\\Studium\\HSHarz\\WissenschaftlichesArbeiten\\WebProcessing-StandardisedGISAnalysesforCableRoutePlanning\\results\\least_cost_paths\\least_cost_path_test_points_res_100_al_false.gpkg\")\n",
    "least_cost_path_100_true = read_file(r\"E:\\Basti\\Studium\\HSHarz\\WissenschaftlichesArbeiten\\WebProcessing-StandardisedGISAnalysesforCableRoutePlanning\\results\\least_cost_paths\\least_cost_path_test_points_res_100_al_true.gpkg\")\n",
    "least_cost_path_100_false.geometry.values[0].length, least_cost_path_100_true.geometry.values[0].length"
   ],
   "metadata": {
    "collapsed": false
   }
  },
  {
   "cell_type": "code",
   "execution_count": 37,
   "outputs": [
    {
     "data": {
      "text/plain": "1946.410723103447"
     },
     "execution_count": 37,
     "metadata": {},
     "output_type": "execute_result"
    }
   ],
   "source": [
    "distances_100  =  np.array([Point(p).distance(least_cost_path_100_true.geometry.values[0]) for p in least_cost_path_100_false.geometry.values[0].coords])\n",
    "mean_min_distances_100 =  np.mean(distances_100)\n",
    "mean_min_distances_100"
   ],
   "metadata": {
    "collapsed": false
   }
  },
  {
   "cell_type": "markdown",
   "source": [
    "# Distances all touched False"
   ],
   "metadata": {
    "collapsed": false
   }
  },
  {
   "cell_type": "code",
   "execution_count": 38,
   "outputs": [
    {
     "data": {
      "text/plain": "257.9733268785573"
     },
     "execution_count": 38,
     "metadata": {},
     "output_type": "execute_result"
    }
   ],
   "source": [
    "distances_false  =  np.array([Point(p).distance(least_cost_path_100_false.geometry.values[0]) for p in least_cost_path_5_false.geometry.values[0].coords])\n",
    "mean_min_distances_false =  np.mean(distances_false)\n",
    "mean_min_distances_false"
   ],
   "metadata": {
    "collapsed": false
   }
  },
  {
   "cell_type": "markdown",
   "source": [
    "# Distances all touched True\n"
   ],
   "metadata": {
    "collapsed": false
   }
  },
  {
   "cell_type": "code",
   "execution_count": 39,
   "outputs": [
    {
     "data": {
      "text/plain": "2109.436322189748"
     },
     "execution_count": 39,
     "metadata": {},
     "output_type": "execute_result"
    }
   ],
   "source": [
    "distances_true  =  np.array([Point(p).distance(least_cost_path_100_true.geometry.values[0]) for p in least_cost_path_5_true.geometry.values[0].coords])\n",
    "mean_min_distances_true =  np.mean(distances_true)\n",
    "mean_min_distances_true"
   ],
   "metadata": {
    "collapsed": false
   }
  },
  {
   "cell_type": "code",
   "execution_count": null,
   "outputs": [],
   "source": [],
   "metadata": {
    "collapsed": false
   }
  }
 ],
 "metadata": {
  "kernelspec": {
   "display_name": "Python 3",
   "language": "python",
   "name": "python3"
  },
  "language_info": {
   "codemirror_mode": {
    "name": "ipython",
    "version": 2
   },
   "file_extension": ".py",
   "mimetype": "text/x-python",
   "name": "python",
   "nbconvert_exporter": "python",
   "pygments_lexer": "ipython2",
   "version": "2.7.6"
  }
 },
 "nbformat": 4,
 "nbformat_minor": 0
}
